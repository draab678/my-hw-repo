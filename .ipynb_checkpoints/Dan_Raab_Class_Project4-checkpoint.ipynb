{
 "cells": [
  {
   "cell_type": "markdown",
   "metadata": {},
   "source": [
    "# Project 4\n",
    "\n",
    "In this project, you will summarize and present your analysis from Projects 1-3."
   ]
  },
  {
   "cell_type": "markdown",
   "metadata": {},
   "source": [
    "### Intro: Write a problem Statement/ Specific Aim for this project"
   ]
  },
  {
   "cell_type": "markdown",
   "metadata": {},
   "source": [
    "Answer:\n",
    "\n",
    "The goal of this project was to determine the importance of a set of\n",
    "factors in predicting the likelihood of winning admission into\n",
    "graduate school\n",
    "\n",
    "The set of predictors included the following: GRE, GPA, and Rank of Alma-Mater\n",
    "\n",
    "The Hypothesis which we will test is that the higher the scores of the\n",
    "GRE and GPA, and the higher the Rank of the Alma-Mater, the greater\n",
    "the likelihood of getting admitted into graduate school"
   ]
  },
  {
   "cell_type": "markdown",
   "metadata": {},
   "source": [
    "### Dataset:  Write up a description of your data and any cleaning that was completed"
   ]
  },
  {
   "cell_type": "markdown",
   "metadata": {
    "collapsed": true
   },
   "source": [
    "The dataset for this analysis consisted of the following variables:\n",
    "\n",
    "- Variable Descriptions    \n",
    "    - admit    :  Admission to Graduate School (1=admit, 0=not admit)\n",
    "    - GRE      :  Graduate Record Examinations\n",
    "    - GPA      :  Grade Point Average\n",
    "    - Prestige :  Rank of Alma-Mater\n",
    "    \n",
    "A test of the data using the dropna() Pandas function indicated that 3 rows\n",
    "contained NA\n",
    "\n",
    "These rows of data were removed to provide a more accurate"
   ]
  },
  {
   "cell_type": "markdown",
   "metadata": {},
   "source": [
    "Answer: "
   ]
  },
  {
   "cell_type": "markdown",
   "metadata": {
    "collapsed": true
   },
   "source": [
    "### Demo: Provide a table that explains the data by admission status"
   ]
  },
  {
   "cell_type": "markdown",
   "metadata": {},
   "source": [
    "### Mean (STD) or counts by admission status for each variable *\n",
    "\n",
    "| Not Admitted | Admitted\n",
    "---| ---|---\n",
    "GPA | 3.35 (0.38)  | 3.49(0.37)\n",
    "GRE |573.6 (116.1) | 618.6 (109.3)\n",
    "Prestige 1 | 28 (46%) | 33 (54%)\n",
    "Prestige 2 | 94 (64%) | 53 (36%)\n",
    "Prestige 3 | 93 (77%) | 28 (23%)\n",
    "Prestige 4 |55 (82%) | 12 (18%)\n",
    "\n",
    "*Notes: GPA and GRE data displayed as Mean (Std).\n",
    "Prestige data displayed as count (% of count)"
   ]
  },
  {
   "cell_type": "markdown",
   "metadata": {},
   "source": [
    "### Methods: Write up the methods used in your analysis"
   ]
  },
  {
   "cell_type": "markdown",
   "metadata": {},
   "source": [
    "Answer: I used the following methods to analyze the dataset:\n",
    "\n",
    "- Created a set of dummy variables to break the Prestige field into 4 separate categories\n",
    "- Hand calculations for the odds of being admitted to grad school if attended #1 ranked college\n",
    "- Then used Logistic Regression to determine statistics for admissions probabilities\n",
    "- Used the Logistic Regression model to predict the outcome based on the input variables\n"
   ]
  },
  {
   "cell_type": "markdown",
   "metadata": {},
   "source": [
    "### Results: Write up your results"
   ]
  },
  {
   "cell_type": "markdown",
   "metadata": {},
   "source": [
    "Answer: Findings from my analysis including the following\n",
    "- You had a 54% chance of getting into graduate school if you attended a Prestige level 1 college\n",
    "- You had a 36% chance of getting into graduate school if you attended a level 2 college\n",
    "- You had a 23% chance if you attended a level 3 college\n",
    "- Your chances were only 18% if you attended a level 4 college\n",
    "- As the Charts help illustrate, the difference between Prestige 3 and 4 is much less pronounced, compared to the difference between 3/4 and 2, and 2 versus 1\n"
   ]
  },
  {
   "cell_type": "markdown",
   "metadata": {},
   "source": [
    "### Visuals: Provide a table or visualization of these results"
   ]
  },
  {
   "cell_type": "markdown",
   "metadata": {},
   "source": []
  },
  {
   "cell_type": "markdown",
   "metadata": {},
   "source": [
    "<img src='Chart1_GRE.png' height= 50% width= 50%>\n",
    "<img src='Chart2_GPA.png' height= 50% width= 50%>"
   ]
  },
  {
   "cell_type": "markdown",
   "metadata": {},
   "source": [
    "### Discussion: Write up your discussion and future steps"
   ]
  },
  {
   "cell_type": "markdown",
   "metadata": {},
   "source": [
    "Answer: The analysis illustrates that there is a relatively linear relationship between GPA and admissions, and GRE and admissions, where no matter what level of Prestige your college, the better your scores the better your chances of admission.  That part is certainly encouraging.  The fact that the lower tier colleges rank so significantly below the higher tiers could be very useful information to pre-college applicants, as it helps illustrate the tremendous impact on chances for admission to grad school that the higher tier college could potentially have down the road.  "
   ]
  },
  {
   "cell_type": "code",
   "execution_count": 9,
   "metadata": {},
   "outputs": [
    {
     "name": "stdout",
     "output_type": "stream",
     "text": [
      "/Users/danielraab/Documents\r\n"
     ]
    }
   ],
   "source": []
  },
  {
   "cell_type": "code",
   "execution_count": null,
   "metadata": {
    "collapsed": true
   },
   "outputs": [],
   "source": []
  }
 ],
 "metadata": {
  "kernelspec": {
   "display_name": "Python 3",
   "language": "python",
   "name": "python3"
  },
  "language_info": {
   "codemirror_mode": {
    "name": "ipython",
    "version": 3
   },
   "file_extension": ".py",
   "mimetype": "text/x-python",
   "name": "python",
   "nbconvert_exporter": "python",
   "pygments_lexer": "ipython3",
   "version": "3.6.3"
  }
 },
 "nbformat": 4,
 "nbformat_minor": 1
}
