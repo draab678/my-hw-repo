{
 "cells": [
  {
   "cell_type": "markdown",
   "metadata": {},
   "source": [
    "### Read and evaluluate the problem statement:\n",
    "Using Admisions data from the file Admissions.csv, read in the variables which indicate observations for 3 variables: gre, gpa, and rank of alma-mater.  The goal is to use the values of these variables to predict the outcome, which can take 1 of two values: 1=admit, 0=reject\n"
   ]
  },
  {
   "cell_type": "code",
   "execution_count": null,
   "metadata": {
    "collapsed": true
   },
   "outputs": [],
   "source": [
    "1. What are the outcomes?\n",
    "Answer:    Admit = 1,  or Not Admit = 0\n",
    "    "
   ]
  },
  {
   "cell_type": "code",
   "execution_count": null,
   "metadata": {
    "collapsed": true
   },
   "outputs": [],
   "source": [
    "2. What are the predictors/covariates?\n",
    "Answer:  Gre, Gpa, rank of alma-mater"
   ]
  },
  {
   "cell_type": "code",
   "execution_count": null,
   "metadata": {
    "collapsed": true
   },
   "outputs": [],
   "source": [
    "3. During what timeframe is this data relevent?\n",
    "Answer: During the window for applying to Graduate School, through the time of notification \n",
    "of admission"
   ]
  },
  {
   "cell_type": "code",
   "execution_count": null,
   "metadata": {
    "collapsed": true
   },
   "outputs": [],
   "source": [
    "4. What is the hypotheses?\n",
    "Answer: The hypothesis is that the higher the scores, of the Gre, Gpa, and/or rank of \n",
    "the alma mater, then the higher the likelihood of being admitted to the graduate school"
   ]
  },
  {
   "cell_type": "code",
   "execution_count": null,
   "metadata": {
    "collapsed": true
   },
   "outputs": [],
   "source": [
    "5. Begin by exploring dataset: Creating data dictionary\n",
    "    \n",
    "VARIABLE DESCRIPTIONS:\n",
    "    \n",
    "Admit           Admission to graduate school\n",
    "                {1=Admit, 0=Not Admit}\n",
    "Gre             Graduate Record Examinations\n",
    "Gpa             Grade Point Average\n",
    "Prestige        Rank of Alma-Mater           \n",
    "    "
   ]
  },
  {
   "cell_type": "code",
   "execution_count": 9,
   "metadata": {},
   "outputs": [],
   "source": [
    "import pandas as pd\n",
    "#admit_data = pd.read_csv('../../project-1/assets/dataset/admissions.csv')\n",
    "\n",
    "admit_data=pd.read_csv('GA_Class1/gitrepo1/dat-2017-11-14/unit-projects/project-1/assets/admissions.csv')"
   ]
  },
  {
   "cell_type": "code",
   "execution_count": 10,
   "metadata": {},
   "outputs": [
    {
     "data": {
      "text/html": [
       "<div>\n",
       "<style>\n",
       "    .dataframe thead tr:only-child th {\n",
       "        text-align: right;\n",
       "    }\n",
       "\n",
       "    .dataframe thead th {\n",
       "        text-align: left;\n",
       "    }\n",
       "\n",
       "    .dataframe tbody tr th {\n",
       "        vertical-align: top;\n",
       "    }\n",
       "</style>\n",
       "<table border=\"1\" class=\"dataframe\">\n",
       "  <thead>\n",
       "    <tr style=\"text-align: right;\">\n",
       "      <th></th>\n",
       "      <th>admit</th>\n",
       "      <th>gre</th>\n",
       "      <th>gpa</th>\n",
       "      <th>prestige</th>\n",
       "    </tr>\n",
       "  </thead>\n",
       "  <tbody>\n",
       "    <tr>\n",
       "      <th>0</th>\n",
       "      <td>0</td>\n",
       "      <td>380.0</td>\n",
       "      <td>3.61</td>\n",
       "      <td>3.0</td>\n",
       "    </tr>\n",
       "    <tr>\n",
       "      <th>1</th>\n",
       "      <td>1</td>\n",
       "      <td>660.0</td>\n",
       "      <td>3.67</td>\n",
       "      <td>3.0</td>\n",
       "    </tr>\n",
       "    <tr>\n",
       "      <th>2</th>\n",
       "      <td>1</td>\n",
       "      <td>800.0</td>\n",
       "      <td>4.00</td>\n",
       "      <td>1.0</td>\n",
       "    </tr>\n",
       "    <tr>\n",
       "      <th>3</th>\n",
       "      <td>1</td>\n",
       "      <td>640.0</td>\n",
       "      <td>3.19</td>\n",
       "      <td>4.0</td>\n",
       "    </tr>\n",
       "    <tr>\n",
       "      <th>4</th>\n",
       "      <td>0</td>\n",
       "      <td>520.0</td>\n",
       "      <td>2.93</td>\n",
       "      <td>4.0</td>\n",
       "    </tr>\n",
       "  </tbody>\n",
       "</table>\n",
       "</div>"
      ],
      "text/plain": [
       "   admit    gre   gpa  prestige\n",
       "0      0  380.0  3.61       3.0\n",
       "1      1  660.0  3.67       3.0\n",
       "2      1  800.0  4.00       1.0\n",
       "3      1  640.0  3.19       4.0\n",
       "4      0  520.0  2.93       4.0"
      ]
     },
     "execution_count": 10,
     "metadata": {},
     "output_type": "execute_result"
    }
   ],
   "source": [
    "admit_data.head()\n"
   ]
  },
  {
   "cell_type": "code",
   "execution_count": 32,
   "metadata": {
    "collapsed": true
   },
   "outputs": [],
   "source": [
    "x=admit_data['prestige']\n",
    "y=admit_data['admit']\n"
   ]
  },
  {
   "cell_type": "code",
   "execution_count": 27,
   "metadata": {},
   "outputs": [],
   "source": [
    "%matplotlib inline"
   ]
  },
  {
   "cell_type": "code",
   "execution_count": 33,
   "metadata": {},
   "outputs": [
    {
     "data": {
      "text/plain": [
       "<matplotlib.collections.PathCollection at 0x11d69ce90>"
      ]
     },
     "execution_count": 33,
     "metadata": {},
     "output_type": "execute_result"
    },
    {
     "data": {
      "image/png": "[encoded data removed]",
      "text/plain": [
       "<matplotlib.figure.Figure at 0x11d59a7d0>"
      ]
     },
     "metadata": {},
     "output_type": "display_data"
    }
   ],
   "source": [
    "from matplotlib import pyplot as plt\n",
    "plt.scatter(x,y,marker='.',color='Red')\n"
   ]
  },
  {
   "cell_type": "code",
   "execution_count": null,
   "metadata": {
    "collapsed": true
   },
   "outputs": [],
   "source": [
    "1. What are the goals of the Exploratory Analysis\n",
    "\n",
    "The goals are to examine whether we see correlation patterns between the predictor variables\n",
    "and the outcome of admission\n",
    "\n",
    "2. a) What are the assumptions of the distribution of the data\n",
    "\n",
    "We assume that the higher the values of the variables, the greater the incidence of admission\n",
    "\n",
    "2. b) How will you determine the distribution of your data?\n",
    "\n",
    "We will calculate the incidence percentages based on binning of the data\n",
    "\n",
    "3. a) How might the outliers impact your analysis\n",
    "\n",
    "The outliers may skew the data \n",
    "\n",
    "3. b) How will you test for outliers\n",
    "\n",
    "We will calculte the distribution of the data and find points that fall outside the \n",
    "cluster of observations\n",
    "\n",
    "4. a) What is colinearity\n",
    "Colinearity is when one predictor of a multiple predictor regresion has a strong and \n",
    "linear correlation with another predictor\n",
    "\n",
    "4. b) How will you test for colinearity\n",
    "\n",
    "I will run regressions between the predictor variables\n",
    "\n",
    "\n",
    "5. What is the exploratory analysis plan\n",
    "\n",
    "The plan is to \n",
    "\n",
    "1) Find if the predictors have a linear relationship with eachother\n",
    "2) See if there is some clear evidence that higher values of the predictors correlate with \n",
    "greater admission rates\n",
    "3) See if there are outliers\n"
   ]
  },
  {
   "cell_type": "code",
   "execution_count": null,
   "metadata": {
    "collapsed": true
   },
   "outputs": [],
   "source": [
    "# Data Dictionary is\n",
    "    "
   ]
  }
 ],
 "metadata": {
  "kernelspec": {
   "display_name": "Python 3",
   "language": "python",
   "name": "python3"
  },
  "language_info": {
   "codemirror_mode": {
    "name": "ipython",
    "version": 3
   },
   "file_extension": ".py",
   "mimetype": "text/x-python",
   "name": "python",
   "nbconvert_exporter": "python",
   "pygments_lexer": "ipython3",
   "version": "3.6.3"
  }
 },
 "nbformat": 4,
 "nbformat_minor": 2
}
